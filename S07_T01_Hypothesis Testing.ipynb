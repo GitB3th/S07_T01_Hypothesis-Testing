{
 "cells": [
  {
   "cell_type": "markdown",
   "id": "326036f1",
   "metadata": {},
   "source": [
    "# S07_T01_Hypothesis Testing\n",
    "\n",
    "### Ex1: Agafa un conjunt de dades de tema esportiu que t'agradi i selecciona un atribut del conjunt de dades. Calcula el p-valor i digues si rebutja la hipòtesi nul·la agafant un alfa de 5%"
   ]
  },
  {
   "cell_type": "markdown",
   "id": "6e1295c5",
   "metadata": {},
   "source": [
    "#### Terminology\n",
    "To understand hypothesis testing, there’s some terminology that you have to understand:\n",
    "\n",
    " * Null Hypothesis: the hypothesis that sample observations result purely from chance. The null hypothesis tends to state that there’s no change.\n",
    " * Alternative Hypothesis: the hypothesis that sample observations are influenced by some non-random cause.\n",
    " * P-value: the probability of obtaining the observed results of a test, assuming that the null hypothesis is correct; a smaller p-value means that there is stronger evidence in favor of the alternative hypothesis.\n",
    " * Alpha: the significance level; the probability of rejecting the null hypothesis when it is true — also known as Type 1 error."
   ]
  },
  {
   "cell_type": "markdown",
   "id": "2d1ec6d3",
   "metadata": {},
   "source": [
    "#### Steps for Hypothesis Testing\n",
    "\n",
    "Here are the steps to performing a hypothesis test:\n",
    "\n",
    " * State your null and alternative hypotheses. To reiterate, the null hypothesis typically states that everything is as normally was — that nothing has changed.\n",
    "\n",
    " * Set your significance level, the alpha. This is typically set at 5% but can be set at other levels depending on the situation and how severe it is to committing a type 1 and/or 2 error.\n",
    "\n",
    " * Collect sample data and calculate sample statistics.\n",
    "\n",
    " * Calculate the p-value given sample statistics. Once you get the sample statistics, you can determine the p-value through different methods. The most common methods are the T-score and Z-score for normal distributions. Learn more about T-score and Z-score here.\n",
    "\n",
    " * Reject or do not reject the null hypothesis\n",
    " \n",
    " \n",
    " If the P-value is Greater than the Alpha, Do not Reject the Null"
   ]
  },
  {
   "cell_type": "code",
   "execution_count": 115,
   "id": "1d669590",
   "metadata": {
    "ExecuteTime": {
     "end_time": "2022-04-26T13:57:31.876405Z",
     "start_time": "2022-04-26T13:57:31.862413Z"
    }
   },
   "outputs": [],
   "source": [
    "#Importem llibreries necessàries\n",
    "import numpy as np\n",
    "import pandas as pd\n",
    "import matplotlib.pyplot as plt\n",
    "import seaborn as sns\n",
    "\n",
    "from scipy.stats import ttest_1samp,ttest_ind,f_oneway"
   ]
  },
  {
   "cell_type": "code",
   "execution_count": 22,
   "id": "d4756ecf",
   "metadata": {
    "ExecuteTime": {
     "end_time": "2022-04-25T10:08:37.361151Z",
     "start_time": "2022-04-25T10:08:36.637873Z"
    }
   },
   "outputs": [
    {
     "data": {
      "text/html": [
       "<div>\n",
       "<style scoped>\n",
       "    .dataframe tbody tr th:only-of-type {\n",
       "        vertical-align: middle;\n",
       "    }\n",
       "\n",
       "    .dataframe tbody tr th {\n",
       "        vertical-align: top;\n",
       "    }\n",
       "\n",
       "    .dataframe thead th {\n",
       "        text-align: right;\n",
       "    }\n",
       "</style>\n",
       "<table border=\"1\" class=\"dataframe\">\n",
       "  <thead>\n",
       "    <tr style=\"text-align: right;\">\n",
       "      <th></th>\n",
       "      <th>ID</th>\n",
       "      <th>Name</th>\n",
       "      <th>Sex</th>\n",
       "      <th>Age</th>\n",
       "      <th>Height</th>\n",
       "      <th>Weight</th>\n",
       "      <th>Team</th>\n",
       "      <th>NOC</th>\n",
       "      <th>Games</th>\n",
       "      <th>Year</th>\n",
       "      <th>Season</th>\n",
       "      <th>City</th>\n",
       "      <th>Sport</th>\n",
       "      <th>Event</th>\n",
       "      <th>Medal</th>\n",
       "    </tr>\n",
       "  </thead>\n",
       "  <tbody>\n",
       "    <tr>\n",
       "      <th>0</th>\n",
       "      <td>1</td>\n",
       "      <td>A Dijiang</td>\n",
       "      <td>M</td>\n",
       "      <td>24.0</td>\n",
       "      <td>180.0</td>\n",
       "      <td>80.0</td>\n",
       "      <td>China</td>\n",
       "      <td>CHN</td>\n",
       "      <td>1992 Summer</td>\n",
       "      <td>1992</td>\n",
       "      <td>Summer</td>\n",
       "      <td>Barcelona</td>\n",
       "      <td>Basketball</td>\n",
       "      <td>Basketball Men's Basketball</td>\n",
       "      <td>NaN</td>\n",
       "    </tr>\n",
       "    <tr>\n",
       "      <th>1</th>\n",
       "      <td>2</td>\n",
       "      <td>A Lamusi</td>\n",
       "      <td>M</td>\n",
       "      <td>23.0</td>\n",
       "      <td>170.0</td>\n",
       "      <td>60.0</td>\n",
       "      <td>China</td>\n",
       "      <td>CHN</td>\n",
       "      <td>2012 Summer</td>\n",
       "      <td>2012</td>\n",
       "      <td>Summer</td>\n",
       "      <td>London</td>\n",
       "      <td>Judo</td>\n",
       "      <td>Judo Men's Extra-Lightweight</td>\n",
       "      <td>NaN</td>\n",
       "    </tr>\n",
       "    <tr>\n",
       "      <th>2</th>\n",
       "      <td>3</td>\n",
       "      <td>Gunnar Nielsen Aaby</td>\n",
       "      <td>M</td>\n",
       "      <td>24.0</td>\n",
       "      <td>NaN</td>\n",
       "      <td>NaN</td>\n",
       "      <td>Denmark</td>\n",
       "      <td>DEN</td>\n",
       "      <td>1920 Summer</td>\n",
       "      <td>1920</td>\n",
       "      <td>Summer</td>\n",
       "      <td>Antwerpen</td>\n",
       "      <td>Football</td>\n",
       "      <td>Football Men's Football</td>\n",
       "      <td>NaN</td>\n",
       "    </tr>\n",
       "    <tr>\n",
       "      <th>3</th>\n",
       "      <td>4</td>\n",
       "      <td>Edgar Lindenau Aabye</td>\n",
       "      <td>M</td>\n",
       "      <td>34.0</td>\n",
       "      <td>NaN</td>\n",
       "      <td>NaN</td>\n",
       "      <td>Denmark/Sweden</td>\n",
       "      <td>DEN</td>\n",
       "      <td>1900 Summer</td>\n",
       "      <td>1900</td>\n",
       "      <td>Summer</td>\n",
       "      <td>Paris</td>\n",
       "      <td>Tug-Of-War</td>\n",
       "      <td>Tug-Of-War Men's Tug-Of-War</td>\n",
       "      <td>Gold</td>\n",
       "    </tr>\n",
       "    <tr>\n",
       "      <th>4</th>\n",
       "      <td>5</td>\n",
       "      <td>Christine Jacoba Aaftink</td>\n",
       "      <td>F</td>\n",
       "      <td>21.0</td>\n",
       "      <td>185.0</td>\n",
       "      <td>82.0</td>\n",
       "      <td>Netherlands</td>\n",
       "      <td>NED</td>\n",
       "      <td>1988 Winter</td>\n",
       "      <td>1988</td>\n",
       "      <td>Winter</td>\n",
       "      <td>Calgary</td>\n",
       "      <td>Speed Skating</td>\n",
       "      <td>Speed Skating Women's 500 metres</td>\n",
       "      <td>NaN</td>\n",
       "    </tr>\n",
       "  </tbody>\n",
       "</table>\n",
       "</div>"
      ],
      "text/plain": [
       "   ID                      Name Sex   Age  Height  Weight            Team  \\\n",
       "0   1                 A Dijiang   M  24.0   180.0    80.0           China   \n",
       "1   2                  A Lamusi   M  23.0   170.0    60.0           China   \n",
       "2   3       Gunnar Nielsen Aaby   M  24.0     NaN     NaN         Denmark   \n",
       "3   4      Edgar Lindenau Aabye   M  34.0     NaN     NaN  Denmark/Sweden   \n",
       "4   5  Christine Jacoba Aaftink   F  21.0   185.0    82.0     Netherlands   \n",
       "\n",
       "   NOC        Games  Year  Season       City          Sport  \\\n",
       "0  CHN  1992 Summer  1992  Summer  Barcelona     Basketball   \n",
       "1  CHN  2012 Summer  2012  Summer     London           Judo   \n",
       "2  DEN  1920 Summer  1920  Summer  Antwerpen       Football   \n",
       "3  DEN  1900 Summer  1900  Summer      Paris     Tug-Of-War   \n",
       "4  NED  1988 Winter  1988  Winter    Calgary  Speed Skating   \n",
       "\n",
       "                              Event Medal  \n",
       "0       Basketball Men's Basketball   NaN  \n",
       "1      Judo Men's Extra-Lightweight   NaN  \n",
       "2           Football Men's Football   NaN  \n",
       "3       Tug-Of-War Men's Tug-Of-War  Gold  \n",
       "4  Speed Skating Women's 500 metres   NaN  "
      ]
     },
     "execution_count": 22,
     "metadata": {},
     "output_type": "execute_result"
    }
   ],
   "source": [
    "#Agafem el mateix dataset del Sprint anterior 120 years of Olympic history athletes and results\n",
    "\n",
    "pd.set_option(\"display.max_rows\",None)\n",
    "statistics_df= pd.read_csv(\"athlete_events.csv\")\n",
    "statistics_df.head()"
   ]
  },
  {
   "cell_type": "code",
   "execution_count": 23,
   "id": "3e94bd1a",
   "metadata": {
    "ExecuteTime": {
     "end_time": "2022-04-25T10:08:41.128729Z",
     "start_time": "2022-04-25T10:08:40.996574Z"
    },
    "scrolled": true
   },
   "outputs": [
    {
     "data": {
      "text/html": [
       "<div>\n",
       "<style scoped>\n",
       "    .dataframe tbody tr th:only-of-type {\n",
       "        vertical-align: middle;\n",
       "    }\n",
       "\n",
       "    .dataframe tbody tr th {\n",
       "        vertical-align: top;\n",
       "    }\n",
       "\n",
       "    .dataframe thead th {\n",
       "        text-align: right;\n",
       "    }\n",
       "</style>\n",
       "<table border=\"1\" class=\"dataframe\">\n",
       "  <thead>\n",
       "    <tr style=\"text-align: right;\">\n",
       "      <th></th>\n",
       "      <th>ID</th>\n",
       "      <th>Name</th>\n",
       "      <th>Sex</th>\n",
       "      <th>Age</th>\n",
       "      <th>Height</th>\n",
       "      <th>Weight</th>\n",
       "      <th>Team</th>\n",
       "      <th>NOC</th>\n",
       "      <th>Games</th>\n",
       "      <th>Year</th>\n",
       "      <th>Season</th>\n",
       "      <th>City</th>\n",
       "      <th>Sport</th>\n",
       "      <th>Event</th>\n",
       "      <th>Medal</th>\n",
       "    </tr>\n",
       "  </thead>\n",
       "  <tbody>\n",
       "    <tr>\n",
       "      <th>0</th>\n",
       "      <td>1</td>\n",
       "      <td>A Dijiang</td>\n",
       "      <td>M</td>\n",
       "      <td>24.0</td>\n",
       "      <td>180.0</td>\n",
       "      <td>80.0</td>\n",
       "      <td>China</td>\n",
       "      <td>CHN</td>\n",
       "      <td>1992 Summer</td>\n",
       "      <td>1992</td>\n",
       "      <td>Summer</td>\n",
       "      <td>Barcelona</td>\n",
       "      <td>Basketball</td>\n",
       "      <td>Basketball Men's Basketball</td>\n",
       "      <td>0</td>\n",
       "    </tr>\n",
       "    <tr>\n",
       "      <th>1</th>\n",
       "      <td>2</td>\n",
       "      <td>A Lamusi</td>\n",
       "      <td>M</td>\n",
       "      <td>23.0</td>\n",
       "      <td>170.0</td>\n",
       "      <td>60.0</td>\n",
       "      <td>China</td>\n",
       "      <td>CHN</td>\n",
       "      <td>2012 Summer</td>\n",
       "      <td>2012</td>\n",
       "      <td>Summer</td>\n",
       "      <td>London</td>\n",
       "      <td>Judo</td>\n",
       "      <td>Judo Men's Extra-Lightweight</td>\n",
       "      <td>0</td>\n",
       "    </tr>\n",
       "    <tr>\n",
       "      <th>2</th>\n",
       "      <td>3</td>\n",
       "      <td>Gunnar Nielsen Aaby</td>\n",
       "      <td>M</td>\n",
       "      <td>24.0</td>\n",
       "      <td>0.0</td>\n",
       "      <td>0.0</td>\n",
       "      <td>Denmark</td>\n",
       "      <td>DEN</td>\n",
       "      <td>1920 Summer</td>\n",
       "      <td>1920</td>\n",
       "      <td>Summer</td>\n",
       "      <td>Antwerpen</td>\n",
       "      <td>Football</td>\n",
       "      <td>Football Men's Football</td>\n",
       "      <td>0</td>\n",
       "    </tr>\n",
       "    <tr>\n",
       "      <th>3</th>\n",
       "      <td>4</td>\n",
       "      <td>Edgar Lindenau Aabye</td>\n",
       "      <td>M</td>\n",
       "      <td>34.0</td>\n",
       "      <td>0.0</td>\n",
       "      <td>0.0</td>\n",
       "      <td>Denmark/Sweden</td>\n",
       "      <td>DEN</td>\n",
       "      <td>1900 Summer</td>\n",
       "      <td>1900</td>\n",
       "      <td>Summer</td>\n",
       "      <td>Paris</td>\n",
       "      <td>Tug-Of-War</td>\n",
       "      <td>Tug-Of-War Men's Tug-Of-War</td>\n",
       "      <td>Gold</td>\n",
       "    </tr>\n",
       "    <tr>\n",
       "      <th>4</th>\n",
       "      <td>5</td>\n",
       "      <td>Christine Jacoba Aaftink</td>\n",
       "      <td>F</td>\n",
       "      <td>21.0</td>\n",
       "      <td>185.0</td>\n",
       "      <td>82.0</td>\n",
       "      <td>Netherlands</td>\n",
       "      <td>NED</td>\n",
       "      <td>1988 Winter</td>\n",
       "      <td>1988</td>\n",
       "      <td>Winter</td>\n",
       "      <td>Calgary</td>\n",
       "      <td>Speed Skating</td>\n",
       "      <td>Speed Skating Women's 500 metres</td>\n",
       "      <td>0</td>\n",
       "    </tr>\n",
       "  </tbody>\n",
       "</table>\n",
       "</div>"
      ],
      "text/plain": [
       "   ID                      Name Sex   Age  Height  Weight            Team  \\\n",
       "0   1                 A Dijiang   M  24.0   180.0    80.0           China   \n",
       "1   2                  A Lamusi   M  23.0   170.0    60.0           China   \n",
       "2   3       Gunnar Nielsen Aaby   M  24.0     0.0     0.0         Denmark   \n",
       "3   4      Edgar Lindenau Aabye   M  34.0     0.0     0.0  Denmark/Sweden   \n",
       "4   5  Christine Jacoba Aaftink   F  21.0   185.0    82.0     Netherlands   \n",
       "\n",
       "   NOC        Games  Year  Season       City          Sport  \\\n",
       "0  CHN  1992 Summer  1992  Summer  Barcelona     Basketball   \n",
       "1  CHN  2012 Summer  2012  Summer     London           Judo   \n",
       "2  DEN  1920 Summer  1920  Summer  Antwerpen       Football   \n",
       "3  DEN  1900 Summer  1900  Summer      Paris     Tug-Of-War   \n",
       "4  NED  1988 Winter  1988  Winter    Calgary  Speed Skating   \n",
       "\n",
       "                              Event Medal  \n",
       "0       Basketball Men's Basketball     0  \n",
       "1      Judo Men's Extra-Lightweight     0  \n",
       "2           Football Men's Football     0  \n",
       "3       Tug-Of-War Men's Tug-Of-War  Gold  \n",
       "4  Speed Skating Women's 500 metres     0  "
      ]
     },
     "execution_count": 23,
     "metadata": {},
     "output_type": "execute_result"
    }
   ],
   "source": [
    "#Comprovem si tenim NaN values i si hi ha els reemplaçem per zero's\n",
    "statistics_df.fillna(value=0, inplace = True)\n",
    "statistics_df.head()"
   ]
  },
  {
   "cell_type": "code",
   "execution_count": 5,
   "id": "a783de6c",
   "metadata": {
    "ExecuteTime": {
     "end_time": "2022-04-25T10:00:00.148896Z",
     "start_time": "2022-04-25T09:59:59.758179Z"
    },
    "scrolled": true
   },
   "outputs": [
    {
     "data": {
      "text/html": [
       "<div>\n",
       "<style scoped>\n",
       "    .dataframe tbody tr th:only-of-type {\n",
       "        vertical-align: middle;\n",
       "    }\n",
       "\n",
       "    .dataframe tbody tr th {\n",
       "        vertical-align: top;\n",
       "    }\n",
       "\n",
       "    .dataframe thead th {\n",
       "        text-align: right;\n",
       "    }\n",
       "</style>\n",
       "<table border=\"1\" class=\"dataframe\">\n",
       "  <thead>\n",
       "    <tr style=\"text-align: right;\">\n",
       "      <th></th>\n",
       "      <th>ID</th>\n",
       "      <th>Age</th>\n",
       "      <th>Height</th>\n",
       "      <th>Weight</th>\n",
       "      <th>Year</th>\n",
       "    </tr>\n",
       "  </thead>\n",
       "  <tbody>\n",
       "    <tr>\n",
       "      <th>count</th>\n",
       "      <td>271116.000000</td>\n",
       "      <td>271116.000000</td>\n",
       "      <td>271116.000000</td>\n",
       "      <td>271116.000000</td>\n",
       "      <td>271116.000000</td>\n",
       "    </tr>\n",
       "    <tr>\n",
       "      <th>mean</th>\n",
       "      <td>68248.954396</td>\n",
       "      <td>24.663827</td>\n",
       "      <td>136.424553</td>\n",
       "      <td>54.305674</td>\n",
       "      <td>1978.378480</td>\n",
       "    </tr>\n",
       "    <tr>\n",
       "      <th>std</th>\n",
       "      <td>39022.286345</td>\n",
       "      <td>7.840652</td>\n",
       "      <td>73.450560</td>\n",
       "      <td>32.381492</td>\n",
       "      <td>29.877632</td>\n",
       "    </tr>\n",
       "    <tr>\n",
       "      <th>min</th>\n",
       "      <td>1.000000</td>\n",
       "      <td>0.000000</td>\n",
       "      <td>0.000000</td>\n",
       "      <td>0.000000</td>\n",
       "      <td>1896.000000</td>\n",
       "    </tr>\n",
       "    <tr>\n",
       "      <th>25%</th>\n",
       "      <td>34643.000000</td>\n",
       "      <td>21.000000</td>\n",
       "      <td>157.000000</td>\n",
       "      <td>47.000000</td>\n",
       "      <td>1960.000000</td>\n",
       "    </tr>\n",
       "    <tr>\n",
       "      <th>50%</th>\n",
       "      <td>68205.000000</td>\n",
       "      <td>24.000000</td>\n",
       "      <td>171.000000</td>\n",
       "      <td>64.000000</td>\n",
       "      <td>1988.000000</td>\n",
       "    </tr>\n",
       "    <tr>\n",
       "      <th>75%</th>\n",
       "      <td>102097.250000</td>\n",
       "      <td>28.000000</td>\n",
       "      <td>180.000000</td>\n",
       "      <td>75.000000</td>\n",
       "      <td>2002.000000</td>\n",
       "    </tr>\n",
       "    <tr>\n",
       "      <th>max</th>\n",
       "      <td>135571.000000</td>\n",
       "      <td>97.000000</td>\n",
       "      <td>226.000000</td>\n",
       "      <td>214.000000</td>\n",
       "      <td>2016.000000</td>\n",
       "    </tr>\n",
       "  </tbody>\n",
       "</table>\n",
       "</div>"
      ],
      "text/plain": [
       "                  ID            Age         Height         Weight  \\\n",
       "count  271116.000000  271116.000000  271116.000000  271116.000000   \n",
       "mean    68248.954396      24.663827     136.424553      54.305674   \n",
       "std     39022.286345       7.840652      73.450560      32.381492   \n",
       "min         1.000000       0.000000       0.000000       0.000000   \n",
       "25%     34643.000000      21.000000     157.000000      47.000000   \n",
       "50%     68205.000000      24.000000     171.000000      64.000000   \n",
       "75%    102097.250000      28.000000     180.000000      75.000000   \n",
       "max    135571.000000      97.000000     226.000000     214.000000   \n",
       "\n",
       "                Year  \n",
       "count  271116.000000  \n",
       "mean     1978.378480  \n",
       "std        29.877632  \n",
       "min      1896.000000  \n",
       "25%      1960.000000  \n",
       "50%      1988.000000  \n",
       "75%      2002.000000  \n",
       "max      2016.000000  "
      ]
     },
     "execution_count": 5,
     "metadata": {},
     "output_type": "execute_result"
    }
   ],
   "source": [
    "statistics_df.describe()"
   ]
  },
  {
   "cell_type": "code",
   "execution_count": 6,
   "id": "71e2898c",
   "metadata": {
    "ExecuteTime": {
     "end_time": "2022-04-25T10:00:00.196850Z",
     "start_time": "2022-04-25T10:00:00.150890Z"
    }
   },
   "outputs": [
    {
     "data": {
      "text/html": [
       "<div>\n",
       "<style scoped>\n",
       "    .dataframe tbody tr th:only-of-type {\n",
       "        vertical-align: middle;\n",
       "    }\n",
       "\n",
       "    .dataframe tbody tr th {\n",
       "        vertical-align: top;\n",
       "    }\n",
       "\n",
       "    .dataframe thead th {\n",
       "        text-align: right;\n",
       "    }\n",
       "</style>\n",
       "<table border=\"1\" class=\"dataframe\">\n",
       "  <thead>\n",
       "    <tr style=\"text-align: right;\">\n",
       "      <th></th>\n",
       "      <th>ID</th>\n",
       "      <th>Age</th>\n",
       "      <th>Height</th>\n",
       "      <th>Weight</th>\n",
       "      <th>Year</th>\n",
       "    </tr>\n",
       "  </thead>\n",
       "  <tbody>\n",
       "    <tr>\n",
       "      <th>count</th>\n",
       "      <td>50.000000</td>\n",
       "      <td>50.000000</td>\n",
       "      <td>50.000000</td>\n",
       "      <td>50.000000</td>\n",
       "      <td>50.000000</td>\n",
       "    </tr>\n",
       "    <tr>\n",
       "      <th>mean</th>\n",
       "      <td>72468.480000</td>\n",
       "      <td>24.520000</td>\n",
       "      <td>138.040000</td>\n",
       "      <td>53.960000</td>\n",
       "      <td>1980.560000</td>\n",
       "    </tr>\n",
       "    <tr>\n",
       "      <th>std</th>\n",
       "      <td>39264.801857</td>\n",
       "      <td>6.004216</td>\n",
       "      <td>70.241554</td>\n",
       "      <td>29.293699</td>\n",
       "      <td>27.662809</td>\n",
       "    </tr>\n",
       "    <tr>\n",
       "      <th>min</th>\n",
       "      <td>1855.000000</td>\n",
       "      <td>0.000000</td>\n",
       "      <td>0.000000</td>\n",
       "      <td>0.000000</td>\n",
       "      <td>1900.000000</td>\n",
       "    </tr>\n",
       "    <tr>\n",
       "      <th>25%</th>\n",
       "      <td>41924.000000</td>\n",
       "      <td>21.250000</td>\n",
       "      <td>158.250000</td>\n",
       "      <td>47.500000</td>\n",
       "      <td>1960.000000</td>\n",
       "    </tr>\n",
       "    <tr>\n",
       "      <th>50%</th>\n",
       "      <td>72544.000000</td>\n",
       "      <td>24.000000</td>\n",
       "      <td>170.000000</td>\n",
       "      <td>64.000000</td>\n",
       "      <td>1992.000000</td>\n",
       "    </tr>\n",
       "    <tr>\n",
       "      <th>75%</th>\n",
       "      <td>101472.750000</td>\n",
       "      <td>27.750000</td>\n",
       "      <td>179.000000</td>\n",
       "      <td>72.750000</td>\n",
       "      <td>2001.500000</td>\n",
       "    </tr>\n",
       "    <tr>\n",
       "      <th>max</th>\n",
       "      <td>134913.000000</td>\n",
       "      <td>42.000000</td>\n",
       "      <td>190.000000</td>\n",
       "      <td>93.000000</td>\n",
       "      <td>2016.000000</td>\n",
       "    </tr>\n",
       "  </tbody>\n",
       "</table>\n",
       "</div>"
      ],
      "text/plain": [
       "                  ID        Age      Height     Weight         Year\n",
       "count      50.000000  50.000000   50.000000  50.000000    50.000000\n",
       "mean    72468.480000  24.520000  138.040000  53.960000  1980.560000\n",
       "std     39264.801857   6.004216   70.241554  29.293699    27.662809\n",
       "min      1855.000000   0.000000    0.000000   0.000000  1900.000000\n",
       "25%     41924.000000  21.250000  158.250000  47.500000  1960.000000\n",
       "50%     72544.000000  24.000000  170.000000  64.000000  1992.000000\n",
       "75%    101472.750000  27.750000  179.000000  72.750000  2001.500000\n",
       "max    134913.000000  42.000000  190.000000  93.000000  2016.000000"
      ]
     },
     "execution_count": 6,
     "metadata": {},
     "output_type": "execute_result"
    }
   ],
   "source": [
    "#Torno a triar l'atribut de l'edat per aquest primer exercici\n",
    "#Agafo mostra aleatòria simple\n",
    "sample_dades = statistics_df.sample(50)\n",
    "sample_dades.describe()"
   ]
  },
  {
   "cell_type": "code",
   "execution_count": 7,
   "id": "d856a309",
   "metadata": {
    "ExecuteTime": {
     "end_time": "2022-04-25T10:00:00.292395Z",
     "start_time": "2022-04-25T10:00:00.197849Z"
    }
   },
   "outputs": [
    {
     "data": {
      "text/plain": [
       "24.52"
      ]
     },
     "execution_count": 7,
     "metadata": {},
     "output_type": "execute_result"
    }
   ],
   "source": [
    "#calculo mitjana de la mostra seleccionada (x̄)\n",
    "sample_dades[\"Age\"].mean()"
   ]
  },
  {
   "cell_type": "code",
   "execution_count": 8,
   "id": "8b7742fb",
   "metadata": {
    "ExecuteTime": {
     "end_time": "2022-04-25T10:00:00.400226Z",
     "start_time": "2022-04-25T10:00:00.300332Z"
    }
   },
   "outputs": [
    {
     "data": {
      "text/plain": [
       "24.663826553947388"
      ]
     },
     "execution_count": 8,
     "metadata": {},
     "output_type": "execute_result"
    }
   ],
   "source": [
    "#Calculo la mitjana de les edats dels atletes (pooulation mean μ = statistics_df[\"Age\"].mean())\n",
    "age_mitjana = statistics_df[\"Age\"].mean()\n",
    "age_mitjana"
   ]
  },
  {
   "cell_type": "code",
   "execution_count": 9,
   "id": "f1d2f2bc",
   "metadata": {
    "ExecuteTime": {
     "end_time": "2022-04-25T10:00:00.680160Z",
     "start_time": "2022-04-25T10:00:00.406212Z"
    }
   },
   "outputs": [
    {
     "name": "stdout",
     "output_type": "stream",
     "text": [
      "t-stat = -22.32\n",
      "p-value = 0.000\n",
      "We can reject H0\n"
     ]
    }
   ],
   "source": [
    "#i faig les hipòtesis\n",
    "#Hipotesi nul.la (H0): μ=25\n",
    "#Hipotesi alternativa (H1): μ<25\n",
    "#Sample mean (x̄) = 25.58\n",
    "#sample Standard deviation(s) = 9.73\n",
    "#Number of observations(n) = 50\n",
    "#alpha = 5% (0.05)\n",
    "\n",
    "#fem one sample t-test\n",
    "from scipy import stats\n",
    "alpha=0.05\n",
    "stat, p = stats.ttest_1samp(statistics_df[\"Age\"], popmean=25)\n",
    "print(f't-stat = {stat:.2f}\\np-value = {p:.3f}')\n",
    "print(\"We can not reject H0\") if p > alpha else print(\"We can reject H0\")\n"
   ]
  },
  {
   "cell_type": "markdown",
   "id": "b1f7080f",
   "metadata": {},
   "source": [
    "Amb els càlculs obtinguts, podem pràcticament assegurar amb un error de 0.05, que la mitjana de les edats dels atletes serà menor de 25 anys! Hem obtingut un p-value < alpha, amb el que podem rebutjar la hipòtesis nul.la Ho."
   ]
  },
  {
   "cell_type": "code",
   "execution_count": 10,
   "id": "8a2d0064",
   "metadata": {
    "ExecuteTime": {
     "end_time": "2022-04-25T10:00:00.726982Z",
     "start_time": "2022-04-25T10:00:00.690084Z"
    }
   },
   "outputs": [
    {
     "name": "stdout",
     "output_type": "stream",
     "text": [
      "t-stat = 9.55\n",
      "p-value = 0.0000\n",
      "We can reject H0\n"
     ]
    }
   ],
   "source": [
    "#fem one sample t-test\n",
    "from scipy import stats\n",
    "alpha=0.05\n",
    "stat, p = stats.ttest_1samp(statistics_df[\"Age\"], sample_dades[\"Age\"].mean())\n",
    "print(f't-stat = {stat:.2f}\\np-value = {p:.4f}')\n",
    "print(\"We can not reject H0\") if p > alpha else print(\"We can reject H0\")\n"
   ]
  },
  {
   "cell_type": "code",
   "execution_count": 11,
   "id": "64401673",
   "metadata": {
    "ExecuteTime": {
     "end_time": "2022-04-25T10:00:00.820024Z",
     "start_time": "2022-04-25T10:00:00.731968Z"
    }
   },
   "outputs": [],
   "source": [
    "#Sample mean (x̄) = 25.58\n",
    "#population mean (μ) = 24.66\n",
    "#sample Standard deviation(s) = 9.73\n",
    "#Number of observations(n) = 50\n",
    "#alpha = 5% (0.05)\n",
    "# t=(25.58-24.66)/(9.73/√50) = 0.6685"
   ]
  },
  {
   "cell_type": "markdown",
   "id": "25a4ca76",
   "metadata": {},
   "source": [
    "### Ex2: Continua amb el conjunt de dades de tema esportiu que t'agradi i selecciona dos altres atributs del conjunt de dades. Calcula els p-valors i digues si rebutgen la hipòtesi nul·la agafant un alfa de 5%"
   ]
  },
  {
   "cell_type": "code",
   "execution_count": 12,
   "id": "59c05f6e",
   "metadata": {
    "ExecuteTime": {
     "end_time": "2022-04-25T10:00:01.024199Z",
     "start_time": "2022-04-25T10:00:00.827003Z"
    }
   },
   "outputs": [],
   "source": [
    "#Com a atributs que puguin estar relacionats i tenir una bona hipòtesis, tenim l'alçada, i el sexe...\n",
    "#Fisiologicament, sabem que normalment la mitjana d'alçada en els homes és més alta que en les dones\n",
    "#podem plantejar aquesta hipotesi com a alternativa (Ha): sexe Masculí més alt que sexe femení\n",
    "#i Hipòtesi nulla (Ho): sexe Masculí no és més alt que el femení\n",
    "\n",
    "#He triat el tes Student's t-test per comparar les dues mostres d'alçades\n"
   ]
  },
  {
   "cell_type": "markdown",
   "id": "ef4aad14",
   "metadata": {},
   "source": [
    "Student’s t-test\n",
    "\n",
    "Tests whether the means of two independent samples are significantly different.\n",
    "\n",
    "Assumptions\n",
    "\n",
    "* Observations in each sample are independent and identically distributed (iid).\n",
    "* Observations in each sample are normally distributed.\n",
    "* Observations in each sample have the same variance.\n",
    "\n",
    "Interpretation\n",
    "\n",
    "* H0: the means of the samples are equal.\n",
    "* H1: the means of the samples are unequal."
   ]
  },
  {
   "cell_type": "code",
   "execution_count": 50,
   "id": "f7dd9fd2",
   "metadata": {
    "ExecuteTime": {
     "end_time": "2022-04-25T10:41:14.968367Z",
     "start_time": "2022-04-25T10:41:14.918239Z"
    }
   },
   "outputs": [
    {
     "data": {
      "text/plain": [
       "count    67378.000000\n",
       "mean       167.839740\n",
       "std          8.778528\n",
       "min        127.000000\n",
       "25%        162.000000\n",
       "50%        168.000000\n",
       "75%        173.000000\n",
       "max        213.000000\n",
       "Name: Height, dtype: float64"
      ]
     },
     "execution_count": 50,
     "metadata": {},
     "output_type": "execute_result"
    }
   ],
   "source": [
    "#en aquest cas, agafarem les mitjanes d'alçades de les dones, i les dels homes,\n",
    "#i com a hipòtesis nul·la agafarem (Ho): la mitjana d'alçada en els homes no és més alta que en les dones\n",
    "#hipòtesis alternativa (H1): mitjana d'alçada en els homes és més alta que en les dones\n",
    "\n",
    "#necessitem fer les dues mitjanes, per tant, hem d'obtenir les alçades de cada gènere i fer la mitjana:\n",
    "#Height_M and Height_F\n",
    "\n",
    "height_F = statistics_df.loc[statistics_df.Sex==\"F\",  \"Height\"]\n",
    "#descartem valors = 0, ja que ens afecten a la mitjana\n",
    "height_F = height_F.loc[statistics_df.Height !=0]\n",
    "height_F.describe()\n",
    "\n",
    "#alpha=0.05\n"
   ]
  },
  {
   "cell_type": "code",
   "execution_count": 51,
   "id": "719b1c00",
   "metadata": {
    "ExecuteTime": {
     "end_time": "2022-04-25T10:41:18.864120Z",
     "start_time": "2022-04-25T10:41:18.797480Z"
    }
   },
   "outputs": [
    {
     "data": {
      "text/plain": [
       "count    143567.000000\n",
       "mean        178.858463\n",
       "std           9.360318\n",
       "min         127.000000\n",
       "25%         172.000000\n",
       "50%         179.000000\n",
       "75%         185.000000\n",
       "max         226.000000\n",
       "Name: Height, dtype: float64"
      ]
     },
     "execution_count": 51,
     "metadata": {},
     "output_type": "execute_result"
    }
   ],
   "source": [
    "height_M = statistics_df.loc[statistics_df.Sex==\"M\", \"Height\"]\n",
    "#descartem valors = 0, ja que ens afecten a la mitjana\n",
    "height_M = height_M.loc[statistics_df.Height !=0]\n",
    "height_M.describe()\n"
   ]
  },
  {
   "cell_type": "code",
   "execution_count": 80,
   "id": "b59eeb81",
   "metadata": {
    "ExecuteTime": {
     "end_time": "2022-04-25T12:27:14.581466Z",
     "start_time": "2022-04-25T12:27:14.562517Z"
    }
   },
   "outputs": [],
   "source": [
    "sample_height_F = height_F.sample(40)\n",
    "sample_height_M = height_M.sample(40)"
   ]
  },
  {
   "cell_type": "code",
   "execution_count": 81,
   "id": "13b1ae50",
   "metadata": {
    "ExecuteTime": {
     "end_time": "2022-04-25T12:27:16.928583Z",
     "start_time": "2022-04-25T12:27:16.906640Z"
    }
   },
   "outputs": [
    {
     "data": {
      "text/plain": [
       "167.275"
      ]
     },
     "execution_count": 81,
     "metadata": {},
     "output_type": "execute_result"
    }
   ],
   "source": [
    "mean_F = sample_height_F.mean()\n",
    "round(mean_F,3)"
   ]
  },
  {
   "cell_type": "code",
   "execution_count": 100,
   "id": "373a80c1",
   "metadata": {
    "ExecuteTime": {
     "end_time": "2022-04-25T12:43:45.825110Z",
     "start_time": "2022-04-25T12:43:45.817133Z"
    }
   },
   "outputs": [
    {
     "data": {
      "text/plain": [
       "179.3"
      ]
     },
     "execution_count": 100,
     "metadata": {},
     "output_type": "execute_result"
    }
   ],
   "source": [
    "mean_M = sample_height_M.mean()\n",
    "round(mean_M,3)"
   ]
  },
  {
   "cell_type": "code",
   "execution_count": 101,
   "id": "4b24b293",
   "metadata": {
    "ExecuteTime": {
     "end_time": "2022-04-25T12:44:01.981140Z",
     "start_time": "2022-04-25T12:44:01.970169Z"
    }
   },
   "outputs": [
    {
     "name": "stdout",
     "output_type": "stream",
     "text": [
      "t-stat = 5.66\n",
      "p-value = 0.00000024\n",
      "We can reject H0\n"
     ]
    }
   ],
   "source": [
    "#ara apliquem ttest per les mitjanes de dues mostres independents, on equal_var = False, ja que no podem assegurar \n",
    "#que les dues variances siguin iguals\n",
    "\n",
    "alpha=0.05\n",
    "stat, p = stats.ttest_ind(sample_height_M, sample_height_F, equal_var= \"False\")\n",
    "print(f't-stat = {stat:.2f}\\np-value = {p:.8f}')\n",
    "print(\"We can not reject H0\") if p > alpha else print(\"We can reject H0\")"
   ]
  },
  {
   "cell_type": "markdown",
   "id": "bf0bc3e4",
   "metadata": {},
   "source": [
    "Veient el resultat, podem assegurar amb només un 5% d'error que la mitjana d'alçades dels atletes homes és més gran que la de les dones. Rebutjem la hipòtesi Ho."
   ]
  },
  {
   "cell_type": "markdown",
   "id": "b16b0bef",
   "metadata": {},
   "source": [
    "### Ex3: Continua amb el conjunt de dades de tema esportiu que t'agradi i selecciona tres atributs del conjunt de dades. Calcula el p-valor i digues si rebutja la hipòtesi nul·la agafant un alfa de 5%"
   ]
  },
  {
   "cell_type": "markdown",
   "id": "b4a1d931",
   "metadata": {},
   "source": [
    "**Choosing a parametric test: regression, comparison, or correlation**\n",
    " \n",
    "Parametric tests usually have stricter requirements than nonparametric tests, and are able to make stronger inferences from the data. They can only be conducted with data that adheres to the common assumptions of statistical tests.\n",
    "\n",
    "The most common types of parametric test include regression tests, comparison tests, and correlation tests.\n",
    "\n",
    "#### Comparison tests\n",
    "\n",
    "Comparison tests look for differences among group means. They can be used to test the effect of a categorical variable on the mean value of some other characteristic.\n",
    "\n",
    "**T-tests** are used when comparing the means of precisely **two groups** (e.g. the average heights of men and women). \n",
    "\n",
    "**ANOVA and MANOVA tests** are used when comparing the means of **more than two groups** (e.g. the average heights of children, teenagers, and adults)"
   ]
  },
  {
   "cell_type": "markdown",
   "id": "daaf2bd4",
   "metadata": {},
   "source": [
    "#Utilitzarem ANOVA test ja que tenim més de dos grups!\n",
    "\n",
    "The one-way ANOVA tests the null hypothesis that two or more groups have the same population mean. The test is applied to samples from two or more groups, possibly with differing sizes.\n",
    "\n",
    "#He triat com a atributs, **la mitjana de pes(Weight) i Sport(Basketball,Weightlifting)**\n",
    "\n",
    "#Hipòtesis nul·la(Ho): la mitjana de pes d'atletes de Basketball i la mitjana d'atletes de Halterofilia són iguals\n",
    "#Hipòtesis alternativa(H1): la mitjana de pes d'atletes de Basketball i la mitjana d'atletes de Halterofilia  no són iguals\n",
    "\n",
    "#Calculem les mitjanes de cada grup, i agafem una mostra aleatoria pels dos grups!"
   ]
  },
  {
   "cell_type": "code",
   "execution_count": 109,
   "id": "a7da07fa",
   "metadata": {
    "ExecuteTime": {
     "end_time": "2022-04-26T13:40:50.339661Z",
     "start_time": "2022-04-26T13:40:50.286421Z"
    }
   },
   "outputs": [
    {
     "data": {
      "text/plain": [
       "count    3678.000000\n",
       "mean       85.777053\n",
       "std        14.817590\n",
       "min        50.000000\n",
       "25%        75.000000\n",
       "50%        85.000000\n",
       "75%        95.000000\n",
       "max       156.000000\n",
       "Name: Weight, dtype: float64"
      ]
     },
     "execution_count": 109,
     "metadata": {},
     "output_type": "execute_result"
    }
   ],
   "source": [
    "Weight_Basket = statistics_df.loc[statistics_df.Sport==\"Basketball\", \"Weight\"]\n",
    "#descartem valors = 0, ja que ens afecten a la mitjana\n",
    "Weight_Basket = Weight_Basket.loc[statistics_df.Weight !=0]\n",
    "Weight_Basket.describe()\n"
   ]
  },
  {
   "cell_type": "code",
   "execution_count": 110,
   "id": "cd991c5d",
   "metadata": {
    "ExecuteTime": {
     "end_time": "2022-04-26T13:40:54.723088Z",
     "start_time": "2022-04-26T13:40:54.679736Z"
    }
   },
   "outputs": [
    {
     "data": {
      "text/plain": [
       "count    3803.000000\n",
       "mean       78.726663\n",
       "std        22.602393\n",
       "min        47.000000\n",
       "25%        60.000000\n",
       "50%        75.000000\n",
       "75%        90.000000\n",
       "max       176.500000\n",
       "Name: Weight, dtype: float64"
      ]
     },
     "execution_count": 110,
     "metadata": {},
     "output_type": "execute_result"
    }
   ],
   "source": [
    "Weight_Halt = statistics_df.loc[statistics_df.Sport==\"Weightlifting\", \"Weight\"]\n",
    "#descartem valors = 0, ja que ens afecten a la mitjana\n",
    "Weight_Halt = Weight_Halt.loc[statistics_df.Weight !=0]\n",
    "Weight_Halt.describe()"
   ]
  },
  {
   "cell_type": "code",
   "execution_count": 111,
   "id": "8e978a46",
   "metadata": {
    "ExecuteTime": {
     "end_time": "2022-04-26T13:53:21.383729Z",
     "start_time": "2022-04-26T13:53:21.375750Z"
    }
   },
   "outputs": [],
   "source": [
    "sample_Weight_Basket = Weight_Basket.sample(100)\n",
    "sample_Weight_Halt = Weight_Halt.sample(100)"
   ]
  },
  {
   "cell_type": "code",
   "execution_count": 112,
   "id": "4c6b1b9b",
   "metadata": {
    "ExecuteTime": {
     "end_time": "2022-04-26T13:54:32.860533Z",
     "start_time": "2022-04-26T13:54:32.839589Z"
    }
   },
   "outputs": [
    {
     "data": {
      "text/plain": [
       "84.47"
      ]
     },
     "execution_count": 112,
     "metadata": {},
     "output_type": "execute_result"
    }
   ],
   "source": [
    "sample_Weight_Basket.mean()"
   ]
  },
  {
   "cell_type": "code",
   "execution_count": 113,
   "id": "64a628e8",
   "metadata": {
    "ExecuteTime": {
     "end_time": "2022-04-26T13:54:48.032529Z",
     "start_time": "2022-04-26T13:54:48.022584Z"
    }
   },
   "outputs": [
    {
     "data": {
      "text/plain": [
       "79.13"
      ]
     },
     "execution_count": 113,
     "metadata": {},
     "output_type": "execute_result"
    }
   ],
   "source": [
    "sample_Weight_Halt.mean()"
   ]
  },
  {
   "cell_type": "code",
   "execution_count": 119,
   "id": "8c709293",
   "metadata": {
    "ExecuteTime": {
     "end_time": "2022-04-26T13:59:00.238234Z",
     "start_time": "2022-04-26T13:59:00.223272Z"
    }
   },
   "outputs": [
    {
     "name": "stdout",
     "output_type": "stream",
     "text": [
      "F-statistic = 4.288\n",
      "p-value = 0.040\n",
      "We can reject H0\n"
     ]
    }
   ],
   "source": [
    "alpha = 0.05\n",
    "stat, p = f_oneway(sample_Weight_Basket, sample_Weight_Halt)\n",
    "\n",
    "print(f'F-statistic = {stat:.3f}\\np-value = {p:.3f}')\n",
    "print('We can not reject H0') if p > alpha else print('We can reject H0')"
   ]
  },
  {
   "cell_type": "markdown",
   "id": "9a052139",
   "metadata": {},
   "source": [
    "Podem concloure que rebutjem Hipòtesis nul·la, i confirmar que la mitjana de pes dels atletes de Basket i la mitjana de pes dels de Halterofilia són diferents, amb una errada del 5%"
   ]
  }
 ],
 "metadata": {
  "kernelspec": {
   "display_name": "Python 3 (ipykernel)",
   "language": "python",
   "name": "python3"
  },
  "language_info": {
   "codemirror_mode": {
    "name": "ipython",
    "version": 3
   },
   "file_extension": ".py",
   "mimetype": "text/x-python",
   "name": "python",
   "nbconvert_exporter": "python",
   "pygments_lexer": "ipython3",
   "version": "3.9.7"
  },
  "latex_envs": {
   "LaTeX_envs_menu_present": true,
   "autoclose": false,
   "autocomplete": true,
   "bibliofile": "biblio.bib",
   "cite_by": "apalike",
   "current_citInitial": 1,
   "eqLabelWithNumbers": true,
   "eqNumInitial": 1,
   "hotkeys": {
    "equation": "Ctrl-E",
    "itemize": "Ctrl-I"
   },
   "labels_anchors": false,
   "latex_user_defs": false,
   "report_style_numbering": false,
   "user_envs_cfg": false
  }
 },
 "nbformat": 4,
 "nbformat_minor": 5
}
